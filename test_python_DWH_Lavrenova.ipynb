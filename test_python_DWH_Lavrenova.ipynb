{
 "cells": [
  {
   "cell_type": "code",
   "execution_count": 1,
   "id": "representative-watch",
   "metadata": {},
   "outputs": [],
   "source": [
    "import requests\n",
    "from io import BytesIO \n",
    "from io import StringIO \n",
    "import gzip\n",
    "import json\n",
    "from datetime import datetime, date\n",
    "import pyodbc\n",
    "import ipaddress"
   ]
  },
  {
   "cell_type": "code",
   "execution_count": 2,
   "id": "wrong-message",
   "metadata": {},
   "outputs": [],
   "source": [
    "url = 'https://snap.datastream.center/techquest'\n",
    "file_name_template = '{report}-{date_file_name).{format).gz'\n",
    "report = 'input'\n",
    "format_name = 'json'\n",
    "date_file_name = '2017-02-01'\n",
    "resolution = 'gz'\n",
    "\n",
    "server_name = 'DESKTOP-C5C3G74'\n",
    "database_name = 'INV'\n",
    "driver = 'SQL Server Native Client 11.0'"
   ]
  },
  {
   "cell_type": "code",
   "execution_count": 3,
   "id": "smart-currency",
   "metadata": {},
   "outputs": [],
   "source": [
    "file_name = f'{report}-{date_file_name}.{format_name}.{resolution}'\n",
    "full_url = url + '/' + file_name"
   ]
  },
  {
   "cell_type": "code",
   "execution_count": 4,
   "id": "governing-webmaster",
   "metadata": {},
   "outputs": [],
   "source": [
    "response = requests.get(full_url)\n",
    "if response.status_code==200:\n",
    "    with gzip.open(BytesIO(response.content)) as f_in:\n",
    "        try:\n",
    "            file = f_in.read().decode('utf-8')\n",
    "            cnxn = pyodbc.connect(f\"Driver={driver};\"\n",
    "                          f\"Server={server_name};\"\n",
    "                          f\"Database={database_name};\"\n",
    "                          \"Trusted_Connection=yes;\")\n",
    "            cursor = cnxn.cursor()\n",
    "            api_data = date(int(date_file_name.split('-')[0]), int(date_file_name.split('-')[1]), \n",
    "                                                                                        int(date_file_name.split('-')[2]))\n",
    "            for line in file.split('\\n'):\n",
    "                try:\n",
    "                    json_line = json.loads(line)\n",
    "                    user_id = int(json_line['user'])\n",
    "                    ts = datetime.fromtimestamp(json_line['ts'])\n",
    "                    ipaddress.ip_address(json_line['ip'])\n",
    "                    ip = str(ipaddress.ip_address(json_line['ip']))\n",
    "                    context = json.dumps((json_line['context']))\n",
    "                    cursor.execute(\"insert into report_input(id_user, ts, context, ip)\"\n",
    "                                  \"values (?, ?, ?, ?)\",    (user_id, ts, context, ip))\n",
    "                except Exception as ex:\n",
    "                    cursor.execute(\"insert into data_error(api_report, api_data, row_text, error_text, ins_ts)\" \n",
    "                                \"values (?, ?, ?, ?, ?)\", (report, api_data, line, str(ex), datetime.now()))\n",
    "            cursor.commit()\n",
    "        except Exception as ex:\n",
    "                print(ex)      \n",
    "else:\n",
    "    print(\"Invalid requests\")"
   ]
  },
  {
   "cell_type": "code",
   "execution_count": null,
   "id": "rolled-thong",
   "metadata": {},
   "outputs": [],
   "source": []
  }
 ],
 "metadata": {
  "kernelspec": {
   "display_name": "Python 3",
   "language": "python",
   "name": "python3"
  },
  "language_info": {
   "codemirror_mode": {
    "name": "ipython",
    "version": 3
   },
   "file_extension": ".py",
   "mimetype": "text/x-python",
   "name": "python",
   "nbconvert_exporter": "python",
   "pygments_lexer": "ipython3",
   "version": "3.9.1"
  }
 },
 "nbformat": 4,
 "nbformat_minor": 5
}
